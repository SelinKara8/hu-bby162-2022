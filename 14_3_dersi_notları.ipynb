{
  "nbformat": 4,
  "nbformat_minor": 0,
  "metadata": {
    "colab": {
      "name": "14.3. dersi notları.ipynb",
      "provenance": [],
      "authorship_tag": "ABX9TyOCzCebWjoFxUsh7CBIJArH",
      "include_colab_link": true
    },
    "kernelspec": {
      "name": "python3",
      "display_name": "Python 3"
    },
    "language_info": {
      "name": "python"
    }
  },
  "cells": [
    {
      "cell_type": "markdown",
      "metadata": {
        "id": "view-in-github",
        "colab_type": "text"
      },
      "source": [
        "<a href=\"https://colab.research.google.com/github/SelinKara8/test01/blob/main/14_3_dersi_notlar%C4%B1.ipynb\" target=\"_parent\"><img src=\"https://colab.research.google.com/assets/colab-badge.svg\" alt=\"Open In Colab\"/></a>"
      ]
    },
    {
      "cell_type": "code",
      "execution_count": null,
      "metadata": {
        "id": "N8YGGoAjJiy5"
      },
      "outputs": [],
      "source": [
        "#bir küçük else elif örneği. \n",
        "\n",
        "liste = [\"tavşan\", \"marul\", \"leopar\", \"salam\"]\n",
        "seçim = int(input(\"İndex numarasını giriniz: \"))\n",
        "listeToplam = len(liste)\n",
        "if seçim < listeToplam:\n",
        " print(liste[seçim])\n",
        "else: \n",
        "  print(\"İndex dışı giriş..!\")\n",
        "\n",
        "\n",
        "#ÖDEVV klavyeden girilen sayı değil de kelime olursa hata vermesin. Elif kullanıcaz sanırım. \n",
        "#Githuba ekle sonra proje01.ipynb olarak kayded.\n",
        "# bir oyun oluştur. kelime oyunu tarzında  "
      ]
    },
    {
      "cell_type": "code",
      "source": [
        "liste= []\n",
        "for i in range(3):\n",
        " veri = input(\"Giriş yap: \")\n",
        " liste.append(veri)\n",
        " print(liste)"
      ],
      "metadata": {
        "id": "2qGrTNc5OVRe"
      },
      "execution_count": null,
      "outputs": []
    },
    {
      "cell_type": "code",
      "source": [
        "# for döngüsü örneği\n",
        "print(\"Güncel kavramlardan tahminde bulununuz: \")\n",
        "liste= [\"erişim\", \"yazılım\", \"donanım\", \"inavasyon\", \"veri\", \"meta\"]\n",
        "puan = 0 \n",
        "for i in range(3):\n",
        " tahmin = input(str(i+1) + \". Tahmininizi giriniz: \") \n",
        " if tahmin in liste:\n",
        "   puan =+1 \n",
        "   print(\"Doğru cevap, puanınız \" + str(puan))\n",
        " else: \n",
        "    print(\"Yanlış cevap!!\")\n",
        "print (puan)"
      ],
      "metadata": {
        "id": "XHtB5A0jS6Dz"
      },
      "execution_count": null,
      "outputs": []
    },
    {
      "cell_type": "code",
      "source": [
        "#Kelime oyunu, while\n",
        "print(\"Güncel kavramlardan tahminde bulununuz: \")\n",
        "liste= [\"erişim\", \"yazılım\", \"donanım\", \"inavasyon\", \"veri\", \"meta\"]\n",
        "can= 3 \n",
        "while can > 0: \n",
        " tahmin = input(\"Tahmininizi giriniz: \")\n",
        " if tahmin in liste:\n",
        "   print(\"Kazandınız\")\n",
        "   break \n",
        " else: \n",
        "   can = can - 1\n",
        "if can == 0:\n",
        " print(\"Kaybettiniz!!\")"
      ],
      "metadata": {
        "id": "Gie6N0Nsdg4F"
      },
      "execution_count": null,
      "outputs": []
    },
    {
      "cell_type": "code",
      "source": [
        "# continue örneği ***********\n",
        "gunler = [\"Pazartesi\", \"Salı\", \"Çarşamba\", \"Perşembe\", \"Cuma\"]\n",
        "for gun in gunler: \n",
        "  print(gun)\n",
        "  if gun == \"Çarşamba\":\n",
        "    print(\"Çorba yok!!\")\n",
        "    continue \n",
        "  print(\"Çorba var <3<3\")"
      ],
      "metadata": {
        "id": "H4oYRzIUiB-R"
      },
      "execution_count": null,
      "outputs": []
    },
    {
      "cell_type": "code",
      "source": [
        ""
      ],
      "metadata": {
        "id": "PfFt8I5GlxfS"
      },
      "execution_count": null,
      "outputs": []
    }
  ]
}