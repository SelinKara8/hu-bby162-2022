{
  "nbformat": 4,
  "nbformat_minor": 0,
  "metadata": {
    "colab": {
      "name": "28.03 ders norları.ipynb",
      "provenance": [],
      "authorship_tag": "ABX9TyNxgzC5t6ATGhZgM9DY+xZJ",
      "include_colab_link": true
    },
    "kernelspec": {
      "name": "python3",
      "display_name": "Python 3"
    },
    "language_info": {
      "name": "python"
    }
  },
  "cells": [
    {
      "cell_type": "markdown",
      "metadata": {
        "id": "view-in-github",
        "colab_type": "text"
      },
      "source": [
        "<a href=\"https://colab.research.google.com/github/SelinKara8/test01/blob/main/28_03_ders_norlar%C4%B1.ipynb\" target=\"_parent\"><img src=\"https://colab.research.google.com/assets/colab-badge.svg\" alt=\"Open In Colab\"/></a>"
      ]
    },
    {
      "cell_type": "code",
      "execution_count": null,
      "metadata": {
        "colab": {
          "base_uri": "https://localhost:8080/"
        },
        "id": "EGKlrIofS8G_",
        "outputId": "7a8c3051-6e8d-465c-eed8-ebc8c40971d6"
      },
      "outputs": [
        {
          "output_type": "stream",
          "name": "stdout",
          "text": [
            "True\n"
          ]
        }
      ],
      "source": [
        "seçilen = \"test\"\n",
        "dizilen = [\"t\",\"e\",\"s\",\"t\"]\n",
        "kontrol=\"\"\n",
        "\n",
        "for harf in dizilen:\n",
        "  kontrol += harf \n",
        "\n",
        "print(seçilen == kontrol)"
      ]
    },
    {
      "cell_type": "code",
      "source": [
        ""
      ],
      "metadata": {
        "id": "fbInxEyUor5-"
      },
      "execution_count": null,
      "outputs": []
    }
  ]
}