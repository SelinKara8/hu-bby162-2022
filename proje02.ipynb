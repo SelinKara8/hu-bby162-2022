{
  "nbformat": 4,
  "nbformat_minor": 0,
  "metadata": {
    "colab": {
      "name": "Untitled4.ipynb",
      "provenance": [],
      "authorship_tag": "ABX9TyN2v79M6VF4P9OFuG5hSiwc",
      "include_colab_link": true
    },
    "kernelspec": {
      "name": "python3",
      "display_name": "Python 3"
    },
    "language_info": {
      "name": "python"
    }
  },
  "cells": [
    {
      "cell_type": "markdown",
      "metadata": {
        "id": "view-in-github",
        "colab_type": "text"
      },
      "source": [
        "<a href=\"https://colab.research.google.com/github/SelinKara8/test01/blob/main/proje2.ipynb\" target=\"_parent\"><img src=\"https://colab.research.google.com/assets/colab-badge.svg\" alt=\"Open In Colab\"/></a>"
      ]
    },
    {
      "cell_type": "code",
      "execution_count": 4,
      "metadata": {
        "id": "oEI0hQdXQeec",
        "outputId": "1d47ddc1-3d77-4036-b445-85cef9e7ce7d",
        "colab": {
          "base_uri": "https://localhost:8080/"
        }
      },
      "outputs": [
        {
          "output_type": "stream",
          "name": "stdout",
          "text": [
            "İsminizi giriniz? huj\n",
            "Merhabaa Huj Haydi oyuna başlayalım!\n",
            "iyi şanslar!\n",
            "\n",
            "_  _  _  _  _  \n",
            "Senin tahminin:h\n",
            "yanlış yapabilirsin sadece inan!\n",
            "sahip olduğun 4 geriye can hakkın kaldı\n",
            "\n",
            "_  _  _  _  _  \n",
            "Senin tahminin:k\n",
            "yanlış hadi ama! Başarabilirsin\n",
            "sahip olduğun 3 geriye can hakkın kaldı\n",
            "\n",
            "_  _  _  _  _  \n",
            "Senin tahminin:n\n",
            "yanlış yapabilirsin sadece inan!\n",
            "sahip olduğun 2 geriye can hakkın kaldı\n",
            "\n",
            "_  _  _  _  _  \n",
            "Senin tahminin:l\n",
            "yanlış İyi deneme canımm\n",
            "sahip olduğun 1 geriye can hakkın kaldı\n",
            "\n",
            "_  _  _  _  _  \n",
            "Senin tahminin:o\n",
            "yanlış sahip olduğun 0 geriye can hakkın kaldı\n",
            "\n",
            "Kaybettin\n",
            "Kelime şuydu araba\n"
          ]
        }
      ],
      "source": [
        "import time\n",
        "from random import randrange\n",
        "\n",
        "\n",
        "name = input(\"İsminizi giriniz? \")\n",
        "\n",
        "print(\"Merhabaa \" + name.capitalize(), \"Haydi oyuna başlayalım!\"+\"\\n\"+\"iyi şanslar!\")\n",
        "x=randrange(0,5,1)\n",
        "print (\"\")\n",
        "\n",
        "time.sleep(1)\n",
        "\n",
        "guess1 =[\"mahalle\",\"elma\",\"morartı\",\"sinema\",\"araba\"]\n",
        "\n",
        "quote=[\"hadi ama! Başarabilirsin\",\"İyi deneme canımm\",\"yapabilirsin sadece inan!\"]\n",
        "word=guess1[x]\n",
        "\n",
        "guesses = ''\n",
        "\n",
        "remguess = 5\n",
        "\n",
        "while remguess > 0:\n",
        "    \n",
        "    charleft = 0\n",
        "\n",
        "    for char in word:\n",
        "    \n",
        "        if char in guesses:\n",
        "            print(char.upper(),end=\"  \")\n",
        "        else:\n",
        "        \n",
        "            print(\"_\",end=\"  \")\n",
        "            charleft += 1\n",
        "    \n",
        "    if charleft == 0:\n",
        "        print(\"Kazandın dostumm!\")\n",
        "        \n",
        "        break\n",
        "    print()\n",
        "    \n",
        "    guess = input(\"Senin tahminin:\")\n",
        "\n",
        "    guesses += guess\n",
        "    \n",
        "    bck='\\b'\n",
        "    y=randrange(0,3,1)\n",
        "    f=quote[y]\n",
        "\n",
        "    if guess not in word:\n",
        "        remguess -= 1\n",
        "        print(\"yanlış\",end=\" \")\n",
        "        if remguess>0:\n",
        "            print(f)\n",
        "        \n",
        "        print(\"sahip olduğun \" + str(remguess)+\" geriye can hakkın kaldı\")\n",
        "        print()\n",
        "        if remguess == 0:\n",
        "\n",
        "        # Kaybettiğinde\n",
        "            print(\"Kaybettin\")\n",
        "            print(\"Kelime şuydu\" + \" \" +word)\n",
        "    else:\n",
        "        print()"
      ]
    }
  ]
}
