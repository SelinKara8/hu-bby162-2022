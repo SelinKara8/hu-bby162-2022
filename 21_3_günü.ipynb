{
  "nbformat": 4,
  "nbformat_minor": 0,
  "metadata": {
    "colab": {
      "name": "21.3. günü.ipynb",
      "provenance": [],
      "authorship_tag": "ABX9TyPQzl7Y9C757qybvvYsFU5l",
      "include_colab_link": true
    },
    "kernelspec": {
      "name": "python3",
      "display_name": "Python 3"
    },
    "language_info": {
      "name": "python"
    }
  },
  "cells": [
    {
      "cell_type": "markdown",
      "metadata": {
        "id": "view-in-github",
        "colab_type": "text"
      },
      "source": [
        "<a href=\"https://colab.research.google.com/github/SelinKara8/test01/blob/main/21_3_g%C3%BCn%C3%BC.ipynb\" target=\"_parent\"><img src=\"https://colab.research.google.com/assets/colab-badge.svg\" alt=\"Open In Colab\"/></a>"
      ]
    },
    {
      "cell_type": "code",
      "execution_count": 4,
      "metadata": {
        "colab": {
          "base_uri": "https://localhost:8080/"
        },
        "id": "BF4feaelMOSm",
        "outputId": "016a9957-77ba-47e5-a710-fa6acdb60ba7"
      },
      "outputs": [
        {
          "output_type": "stream",
          "name": "stdout",
          "text": [
            "Rakam giriniz: 31\n",
            "31\n"
          ]
        }
      ],
      "source": [
        "girdi = input(\"Rakam giriniz: \")\n",
        "kontrol = girdi.isdigit()\n",
        "if kontrol: \n",
        "  print(girdi)\n",
        "else: \n",
        "  print(\"Rakam girmelisiniz!\")\n",
        "\n"
      ]
    },
    {
      "cell_type": "code",
      "source": [
        "import random\n",
        "print(\"Kelime tahmin oyununa hoş geldiniz<3<3<3\")\n",
        "kelime = [\"bilgi\", \"veri\", \"katolog\", \"kütüphane\"] \n",
        "ipucu = [\"bilgi ipucu\", \"veri ipucu\", \"katolog ipucu\", \"kütüphane ipucu\"]\n",
        "sec = (random.randrange(0, 3))\n",
        "print(\"ipucu \" + ipucu[sec])\n",
        "secilen = kelime[sec]\n",
        "can = 3\n",
        "while True: \n",
        "  tahmin = input(\"Tahmininizi giriniz: \")\n",
        "  if secilen == tahmin:\n",
        "    print(\"Bildiniz <3<3\")\n",
        "    break\n",
        "  else: \n",
        "    print(\"Bilemediniz!!..\")\n",
        "    can -=1 \n",
        "    print(\"Kalan can sayısı :\" +str(can))\n",
        "    if can == 0:\n",
        "     break \n",
        "  \n",
        "  \n"
      ],
      "metadata": {
        "id": "J2Zop9xBR58P"
      },
      "execution_count": null,
      "outputs": []
    },
    {
      "cell_type": "code",
      "source": [
        "#Foksiyon def\n",
        "def karşıla(kisi): \n",
        "  print(\"*** --- ***\")\n",
        "  print(\"Hoş geldin\" + \" \" + kisi)\n",
        "  print(\"*** --- ***\")\n",
        "\n",
        "def gönder(kisi):\n",
        "  print(\"*** --- ***\")\n",
        "  print(\"Güle güle\" + \" \" + kisi)\n",
        "  print(\"*** --- ***\") \n",
        "\n",
        "karşıla(\"orçun\")\n",
        "gönder(\"Orçun\")\n"
      ],
      "metadata": {
        "id": "WRgAxbT4cKs9"
      },
      "execution_count": null,
      "outputs": []
    },
    {
      "cell_type": "code",
      "source": [
        "liste = []\n",
        "def listeekle():\n",
        "  ekle = input(\"Yeni liste elemanı  \")\n",
        "  liste.append(ekle)\n",
        "  print(liste)\n",
        "\n",
        "def listetemizle():\n",
        "  liste = []\n",
        "  print(liste)\n",
        "\n",
        "def listesil():\n",
        "  sil = input(\"Silinecek eleman: \")\n",
        "  liste.remove(sil)\n",
        "  print(liste)\n",
        "\n",
        "def menü():\n",
        "  print(\"1)ekle - 2)sil - 3)temizle\")\n",
        "  calıştır= (input(\"Hangi fonksiyon: \"))\n",
        "  if calıştır == \"1\": \n",
        "    listeekle()\n",
        "  elif calıştır == \"2\": \n",
        "    listesil()\n",
        "  elif calıştır == \"3\": \n",
        "    listetemizle()\n",
        "  else: \n",
        "    \"Seçtiğiniz komut tanımlı değil\"\n",
        "\n",
        "while True: \n",
        "  menü()\n"
      ],
      "metadata": {
        "id": "Pun5kGx7flFe"
      },
      "execution_count": null,
      "outputs": []
    }
  ]
}