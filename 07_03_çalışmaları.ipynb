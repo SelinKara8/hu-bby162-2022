{
  "nbformat": 4,
  "nbformat_minor": 0,
  "metadata": {
    "colab": {
      "name": "07.03. çalışmaları.ipynb",
      "provenance": [],
      "collapsed_sections": [],
      "authorship_tag": "ABX9TyNiuXaVUrD11qTKClb3FJIv",
      "include_colab_link": true
    },
    "kernelspec": {
      "name": "python3",
      "display_name": "Python 3"
    },
    "language_info": {
      "name": "python"
    }
  },
  "cells": [
    {
      "cell_type": "markdown",
      "metadata": {
        "id": "view-in-github",
        "colab_type": "text"
      },
      "source": [
        "<a href=\"https://colab.research.google.com/github/SelinKara8/test01/blob/main/07_03_%C3%A7al%C4%B1%C5%9Fmalar%C4%B1.ipynb\" target=\"_parent\"><img src=\"https://colab.research.google.com/assets/colab-badge.svg\" alt=\"Open In Colab\"/></a>"
      ]
    },
    {
      "cell_type": "code",
      "execution_count": 4,
      "metadata": {
        "colab": {
          "base_uri": "https://localhost:8080/"
        },
        "id": "j3puLr-wHo6T",
        "outputId": "c2e189ba-fa4d-4661-f493-8e055971b683"
      },
      "outputs": [
        {
          "output_type": "stream",
          "name": "stdout",
          "text": [
            "birbirine eşit \n"
          ]
        }
      ],
      "source": [
        "#TEST\n",
        "\n",
        "deger = 1 \n",
        "deger2 = 1\n",
        "\n",
        "if deger == deger2: \n",
        " print(\"birbirine eşit \")"
      ]
    },
    {
      "cell_type": "code",
      "source": [
        "deger = 1 \n",
        "deger2 = 5\n",
        "\n",
        "if deger == deger2:\n",
        "  print(\"birbirine eşit\")\n",
        "\n",
        "if deger  != deger2:\n",
        "  print(\"birbirine eşit değil\")\n"
      ],
      "metadata": {
        "colab": {
          "base_uri": "https://localhost:8080/"
        },
        "id": "nj7N0MFzOPx8",
        "outputId": "e91d7954-a366-4384-c66e-25f37530c465"
      },
      "execution_count": 6,
      "outputs": [
        {
          "output_type": "stream",
          "name": "stdout",
          "text": [
            "birbirine eşit değil\n"
          ]
        }
      ]
    },
    {
      "cell_type": "code",
      "source": [
        "sozluk = {\"tc\" : \"türkiye cumhuriyeti\", \"uk\" : \"ingiltere\", \"gr\" : \"yunanistan\"}\n",
        "print(sozluk)\n",
        "\n",
        "anahtar= input(\"arama \").lower()\n",
        "#print(anahtar)\n",
        "\n",
        "if anahtar in sozluk.keys():\n",
        "  #print(\"Aradığınız kelime sözlükte var \")\n",
        "  print(sozluk[anahtar])\n",
        "\n",
        "else:\n",
        " print(\"Aradığınız kelime sözlükte yok \")\n",
        "\n",
        "\n"
      ],
      "metadata": {
        "id": "VQPdd3SqU8ij"
      },
      "execution_count": null,
      "outputs": []
    },
    {
      "cell_type": "code",
      "source": [
        "parola = \"ateş\"\n",
        "sifre = \"su\"\n",
        "\n",
        "giris1 = input(\"Parola: \")\n",
        "giris2 = input(\"Şifre: \")\n",
        "\n",
        "if parola == giris1 and sifre == giris2:\n",
        " print(\"Sisteme kabul edildiniz <3\")\n",
        "\n",
        "else: \n",
        "  print(\"Sistemden Atıldınız!!\")"
      ],
      "metadata": {
        "colab": {
          "base_uri": "https://localhost:8080/"
        },
        "id": "k93MeJs2X9Bc",
        "outputId": "0ffef999-5993-4525-d1e5-8d1e58a88173"
      },
      "execution_count": 28,
      "outputs": [
        {
          "output_type": "stream",
          "name": "stdout",
          "text": [
            "Parola: ateş\n",
            "Şifre: su\n",
            "Sisteme kabul edildiniz <3\n"
          ]
        }
      ]
    },
    {
      "cell_type": "code",
      "source": [
        "#mini test \n",
        "# 5 soruluk bir test olucak, klasik. TRUE FALSE olucak. soru ekrana gelsin. klavyeden d veya y ye bassın. 2. soru gelsin. \n",
        "#sonucunda da verdiği doğru yanıt adedine göre puan versin ve geri bildirimde bulunsun. 4 ve 5 te 4 den azsa daha çok çalışman lazım desin.\n",
        "#iki tane liste yaparız. listenin bir tanesi sorular, ikinci liste cevapları tutar. \n",
        "# bunları ekrana yazdır. listenin ilgili index num. kullanarak. \n",
        "#her yanıttan sonra bir karşılaştırma, t or f. += oparetörü ile puan topla. yanlışsa puan arttırmıcaksın. \n",
        "\n",
        "print(\"Mini teste hoş geldiniz...\")\n",
        "print(\"Cevaplarınızı d veya y olarak giriniz.\")\n",
        "\n",
        "sorular = [\"bir\", \"iki\", \"üç\", \"dört\", \"beş\", \"altı\"]\n",
        "cevaplar = [\"d\", \"d\", \"d\", \"d\", \"d\", \"d\"]\n",
        "\n",
        "puan = 0\n",
        "\n",
        "print(\" 1. \" + sorular[0])\n",
        "cevap = input(\"Cevabınız: \") \n",
        "if cevap == cevaplar[0]:  \n",
        "  print(\"Doğru bildiniz \")\n",
        "  puan += 1 \n",
        "else:\n",
        "  print(\"yanlış cevap\")\n",
        "\n",
        "print(\" 2. \" + sorular[1])\n",
        "cevap = input(\"Cevabınız: \") \n",
        "if cevap == cevaplar[1]:  \n",
        "  print(\"Doğru bildiniz \")\n",
        "  puan += 1 \n",
        "else:\n",
        "  print(\"yanlış cevap\")\n",
        "\n",
        "print(\" 3. \" + sorular[2])\n",
        "cevap = input(\"Cevabınız: \") \n",
        "if cevap == cevaplar[2]:  \n",
        "  print(\"Doğru bildiniz \")\n",
        "  puan += 1 \n",
        "else:\n",
        "  print(\"yanlış cevap\")\n",
        "\n",
        "print(\" 4. \" + sorular[3])\n",
        "cevap = input(\"Cevabınız: \") \n",
        "if cevap == cevaplar[3]:  \n",
        "  print(\"Doğru bildiniz \")\n",
        "  puan += 1 \n",
        "else:\n",
        "  print(\"yanlış cevap\")\n",
        "\n",
        "print(\" 5. \" + sorular[4])\n",
        "cevap = input(\"Cevabınız: \") \n",
        "if cevap == cevaplar[4]:  \n",
        "  print(\"Doğru bildiniz \")\n",
        "  puan += 1 \n",
        "else:\n",
        "  print(\"yanlış cevap\")\n",
        "\n",
        "print(\" 6. \" + sorular[5])\n",
        "cevap = input(\"Cevabınız: \") \n",
        "if cevap == cevaplar[5]:  \n",
        "  print(\"Doğru bildiniz \")\n",
        "  puan += 1 \n",
        "else:\n",
        "  print(\"yanlış cevap\")\n",
        "\n",
        "print(puan)\n",
        "\n",
        "if puan > 4:\n",
        "  print(\"Tebrikler\")\n",
        "else: \n",
        "  print(\"Daha çok çalışmalısın\")\n",
        "\n",
        "\n",
        "\n"
      ],
      "metadata": {
        "id": "usRCr4_KZZHG"
      },
      "execution_count": null,
      "outputs": []
    },
    {
      "cell_type": "markdown",
      "source": [
        "\n",
        "1. Kitabı raftan aldın mı?\n",
        "2. Kitap referans kaynağı mı?\n",
        "3. Üzerindeki kitap sayısı kaç?\n",
        "4. Kıtabı aldınız. \n",
        "\n",
        "\n"
      ],
      "metadata": {
        "id": "NdDFphCYkJxl"
      }
    },
    {
      "cell_type": "code",
      "source": [
        "cevap = input(\"Kitabı raftan aldın mı? e/h:  \")\n",
        "if cevap == \"e\": \n",
        " cevap = input(\"Kitap referans kaynağı mı? e/h: \")\n",
        " if cevap == \"h\": \n",
        "   cevap = int(input(\"Üzerimndeki kitap sayısı kaç? e/h: \")) \n",
        "   if cevap < 10:\n",
        "     print(\"Kitabı alabilirsiniz...\") \n",
        "\n"
      ],
      "metadata": {
        "colab": {
          "base_uri": "https://localhost:8080/"
        },
        "id": "Be2sW1jPkdjU",
        "outputId": "a1c4e75a-3464-48a0-966d-14cfb247d5be"
      },
      "execution_count": 45,
      "outputs": [
        {
          "output_type": "stream",
          "name": "stdout",
          "text": [
            "Kitabı raftan aldın mı? e/h:  e\n",
            "Kitap referans kaynağı mı? e/h: h\n",
            "Üzerimndeki kitap sayısı kaç? e/h: 5\n",
            "Kitabı alabilirsiniz...\n"
          ]
        }
      ]
    }
  ]
}