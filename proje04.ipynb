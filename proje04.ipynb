{
  "nbformat": 4,
  "nbformat_minor": 0,
  "metadata": {
    "colab": {
      "name": "veritabani.txt",
      "provenance": [],
      "authorship_tag": "ABX9TyMa52UE0nFRnc3Pk8yytACS",
      "include_colab_link": true
    },
    "kernelspec": {
      "name": "python3",
      "display_name": "Python 3"
    },
    "language_info": {
      "name": "python"
    }
  },
  "cells": [
    {
      "cell_type": "markdown",
      "metadata": {
        "id": "view-in-github",
        "colab_type": "text"
      },
      "source": [
        "<a href=\"https://colab.research.google.com/github/SelinKara8/hu-bby162-2022/blob/main/veritabani_txt.ipynb\" target=\"_parent\"><img src=\"https://colab.research.google.com/assets/colab-badge.svg\" alt=\"Open In Colab\"/></a>"
      ]
    },
    {
      "cell_type": "code",
      "source": [
        "def containsNumber(value): #verilen parametrenin icinde rakam var mi onu kontrol eder\n",
        "    if True in [char.isdigit() for char in value]: #eger char bir rakamsa true return eder\n",
        "        return True \n",
        "    return False\n",
        "bulunduBilgisi = False\n",
        "aramaKelimesi = \"\" #daha sonra kullanmak icin olusturalan degiskenler\n",
        "kitapIsmi = \"\"\n",
        "yazarAdi = \"\"\n",
        "basimYili = \"\"\n",
        "yayinevi = \"\"\n",
        "kayitlar = [[\"Dune Tanri Imparatoru\", \"Frank Herbert\", \"1981\", \"Ithaki\"], [\"Dune Mesihi\", \"Frank Herbert\", \"1980\", \"Ithaki\"]]\n",
        "while(True):#kullanici cikis yapana kadar programin calismasini saglayan sonsuz donguyu yaratir\n",
        "    #Menu iceriginin bastirilmasi\n",
        "    print(\"Menu\\n\")\n",
        "    print(\"1. Kayitlari Listele\")\n",
        "    print(\"2. Yeni kayit ekle\")\n",
        "    print(\"3. Kayit Ara\")\n",
        "    print(\"4. Cikis\")\n",
        "    secim = input(\"Lutfen isteginiz islemin numarasini giriniz\\n\") # islem icin girdi alma\n",
        "    while(not secim.isnumeric()): #harf iceren durumlarda tekrar input isteme\n",
        "        secim = input(\"Lutfen uygun bir rakam giriniz.\\n\")\n",
        "    secim = int(secim) #string degeri integer degere cast etme\n",
        "    if(secim==1):\n",
        "        if(len(kayitlar)==0): #eger hic kayit eklenmemisse kayitlarin eklenmedigi uyarisini verir\n",
        "            print(\"Sistemde eklenmis kayit bulunmamaktadir.\")\n",
        "        else:\n",
        "            for kayit in kayitlar: #eger eklenmis kayit varsa bunlari listeler\n",
        "                print(\"Kitap ismi:\",kayit[0])\n",
        "                print(\"Yazar adi:\",kayit[1])\n",
        "                print(\"Basim yili:\",kayit[2])\n",
        "                print(\"Yayinevi:\",kayit[3])\n",
        "                print(\"\\n\")\n",
        "    elif(secim==2): #kayit ekleme sureci\n",
        "        kitapIsmi = input(\"Lutfen kitap adini giriniz: \\n\")\n",
        "        yazarAdi = input(\"Lutfen yazar adini giriniz: \\n\")\n",
        "        while(containsNumber(yazarAdi)): #eger yazar isminde rakam varsa yazar isminin dogru girilmesi istenir\n",
        "            yazarAdi = input(\"Lutfen yazar adini icinde rakam olmayacak sekilde giriniz: \\n\")\n",
        "        basimYili = input(\"Lutfen basim yilini giriniz: \\n\")\n",
        "        while(not basimYili.isnumeric()): #basim yili negatif deger veya string barindiriyorsa dogru bir sekilde girilene kadar tekrar sirar\n",
        "            basimYili = input(\"Lutfen basim yilini dogru olarak giriniz: \\n\")\n",
        "        yayinEvi = input(\"Lutfen yayinevi adini giriniz: \\n\")\n",
        "        kayitlar.append([kitapIsmi, yazarAdi, basimYili, yayinEvi]) #kayitlar listesine verilen ozelliklerdeki kitap eklenir\n",
        "    elif(secim==3):\n",
        "        aramaKelimesi = input(\"Lutfen aramak isteginiz kelimeyi girin: \\n\") #aranacak kelimenin girdi olarak alinmasi\n",
        "        for kayit in kayitlar: #tum kitaplar uzerinde dolasan dongu\n",
        "            for kayitOzellikleri in kayit: #uzerinde bulunulan kitabin tum ozellikleri uzerinde dolasan dongu\n",
        "                if( aramaKelimesi.lower() in kayitOzellikleri.lower()): #lower methodu buyuk harf kucuk harf duyarina takilmamasi amaciyla kullanildi hem aranan kelimeyi hem de ozelligi kucuk harflere cevirerek karsilastirir eger eslesme varsa o kitabin ozellikleri bastirilir\n",
        "                    bulunduBilgisi = True\n",
        "                    print(\"Kitap ismi:\",kayit[0])\n",
        "                    print(\"Yazar adi:\",kayit[1])\n",
        "                    print(\"Basim yili:\",kayit[2])\n",
        "                    print(\"Yayinevi:\",kayit[3])\n",
        "                    print(\"\\n\")\n",
        "                    break # birden fazla ayni ozellige sahip ornegin hem yayinevi hem kitap isminin ayni olmasi durumunda aranan kelime de ayniysa tekrar ekrana basilmasini onlemek amaciyla konmus olan break\n",
        "        if(not bulunduBilgisi):\n",
        "            print(\"Aradiginiz kelimeye dair sonuc bulunamadi\")\n",
        "        bulunduBilgisi = False\n",
        "    elif(secim==4):\n",
        "        print(\"Program sonlandirildi.\")\n",
        "        break #sonsuz donguyu kirar ve program sonlanir\n",
        "    else:\n",
        "        print(\"Yanlis tercih yaptiniz lutfen tekrar secim giriniz\\n\")"
      ],
      "metadata": {
        "id": "S1Q7Vm63RrTG"
      },
      "execution_count": null,
      "outputs": []
    }
  ]
}
