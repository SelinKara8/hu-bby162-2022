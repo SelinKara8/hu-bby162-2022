{
  "nbformat": 4,
  "nbformat_minor": 0,
  "metadata": {
    "colab": {
      "name": "Untitled4.ipynb",
      "provenance": [],
      "authorship_tag": "ABX9TyNd3Q5wVFGvVfv+wh/SsWYo",
      "include_colab_link": true
    },
    "kernelspec": {
      "name": "python3",
      "display_name": "Python 3"
    },
    "language_info": {
      "name": "python"
    }
  },
  "cells": [
    {
      "cell_type": "markdown",
      "metadata": {
        "id": "view-in-github",
        "colab_type": "text"
      },
      "source": [
        "<a href=\"https://colab.research.google.com/github/SelinKara8/test01/blob/main/proje2.ipynb\" target=\"_parent\"><img src=\"https://colab.research.google.com/assets/colab-badge.svg\" alt=\"Open In Colab\"/></a>"
      ]
    },
    {
      "cell_type": "code",
      "execution_count": null,
      "metadata": {
        "id": "oEI0hQdXQeec"
      },
      "outputs": [],
      "source": [
        "import time\n",
        "from random import randrange\n",
        "\n",
        "\n",
        "name = input(\"İsminizi giriniz? \")\n",
        "\n",
        "print(\"Merhabaa \" + name.capitalize(), \"Haydi oyuna başlayalım!\"+\"\\n\"+\"iyi şanslar!\")\n",
        "x=randrange(0,5,1)\n",
        "print (\"\")\n",
        "\n",
        "time.sleep(1)\n",
        "\n",
        "guess1 =[\"mahalle\",\"elma\",\"morartı\",\"sinema\",\"araba\"]\n",
        "\n",
        "quote=[\"hadi ama! Başarabilirsin\",\"İyi deneme canımm\",\"yapabilirsin sadece inan!\"]\n",
        "word=guess1[x]\n",
        "\n",
        "guesses = ''\n",
        "\n",
        "remguess = 10\n",
        "\n",
        "while remguess > 0:\n",
        "    \n",
        "    charleft = 0\n",
        "\n",
        "    for char in word:\n",
        "    \n",
        "        if char in guesses:\n",
        "            print(char.upper(),end=\"  \")\n",
        "        else:\n",
        "        \n",
        "            print(\"_\",end=\"  \")\n",
        "            charleft += 1\n",
        "    \n",
        "    if charleft == 0:\n",
        "        print(\"Kazandın dostumm!\")\n",
        "        \n",
        "        break\n",
        "    print()\n",
        "    \n",
        "    guess = input(\"Senin tahinin:\")\n",
        "\n",
        "    guesses += guess\n",
        "    \n",
        "    bck='\\b'\n",
        "    y=randrange(0,3,1)\n",
        "    f=quote[y]\n",
        "\n",
        "    if guess not in word:\n",
        "        remguess -= 1\n",
        "        print(\"yanlış\",end=\" \")\n",
        "        if remguess>0:\n",
        "            print(f)\n",
        "        \n",
        "        print(\"sahip olduğun \" + str(remguess)+\" geriye can hakkın kaldı\")\n",
        "        print()\n",
        "        if remguess == 0:\n",
        "\n",
        "        # Kaybettiğinde\n",
        "            print(\"Kaybettin\")\n",
        "            print(\"Kelime şuydu\"+word)\n",
        "    else:\n",
        "        print()"
      ]
    }
  ]
}